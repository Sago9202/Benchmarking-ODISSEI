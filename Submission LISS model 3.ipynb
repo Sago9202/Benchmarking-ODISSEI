{
 "cells": [
  {
   "cell_type": "code",
   "execution_count": null,
   "id": "a0473c30-7d14-416c-9060-d79b9b3af3b8",
   "metadata": {},
   "outputs": [],
   "source": [
    "# Classifier imports\n",
    "from sklearn.model_selection import GridSearchCV, train_test_split\n",
    "from sklearn.preprocessing import OneHotEncoder, StandardScaler\n",
    "from sklearn.linear_model import LogisticRegression\n",
    "from sklearn.pipeline import Pipeline\n",
    "from sklearn.impute import SimpleImputer\n",
    "from sklearn.compose import ColumnTransformer\n",
    "from sklearn.compose import make_column_selector as selector\n",
    "from sklearn.metrics import classification_report\n",
    "from sklearn.metrics import RocCurveDisplay\n",
    "\n",
    "\n",
    "import pylab as plt\n",
    "import pandas as pd\n",
    "import numpy as np\n",
    "\n",
    "from joblib import dump, load\n",
    "from sklearn.ensemble import RandomForestClassifier\n",
    "from sklearn.datasets import make_classification\n",
    "from sklearn import svm\n",
    "from sklearn.experimental import enable_iterative_imputer\n",
    "from sklearn.impute import IterativeImputer\n",
    "from sklearn.ensemble import GradientBoostingClassifier\n",
    "from sklearn.datasets import make_classification\n",
    "from sklearn.ensemble import HistGradientBoostingClassifier"
   ]
  },
  {
   "cell_type": "code",
   "execution_count": null,
   "id": "3fab2c39-d431-4c18-925a-0cc078458602",
   "metadata": {},
   "outputs": [],
   "source": [
    "# Import paths\n",
    "path_train = \"./LISS_example_input_data.csv\"\n",
    "path_outcome = \"./LISS_example_groundtruth_data.csv\""
   ]
  },
  {
   "cell_type": "code",
   "execution_count": null,
   "id": "33538d76-de4e-4e4a-a91c-38a07a609c3a",
   "metadata": {},
   "outputs": [],
   "source": [
    "# Read data\n",
    "original_data = pd.read_csv(\"datasets\\LISS_example_input_data.csv\", encoding='cp1252')"
   ]
  },
  {
   "cell_type": "code",
   "execution_count": null,
   "id": "ef10d64e-4eea-4fde-b62c-22fa0e73aa40",
   "metadata": {},
   "outputs": [],
   "source": [
    "outcome = pd.read_csv(\"datasets\\LISS_example_groundtruth_data.csv\", encoding=\"cp1252\")"
   ]
  },
  {
   "cell_type": "code",
   "execution_count": null,
   "id": "615440f8-cc88-46d5-9564-455a5ab1f508",
   "metadata": {},
   "outputs": [],
   "source": [
    "# Drop observations where the outcome is missing\n",
    "y_isna = outcome['new_child'].isnull()\n",
    "data = original_data.loc[~y_isna]\n",
    "outcome = outcome.loc[~y_isna]"
   ]
  },
  {
   "cell_type": "code",
   "execution_count": null,
   "id": "00d75c97-bf84-42b4-8bab-288d5b705d18",
   "metadata": {},
   "outputs": [],
   "source": [
    "# Select predictors: education, year of birth, gender, number of children in the household \n",
    "# You can do this automatically (not necessarily better): https://scikit-learn.org/stable/modules/feature_selection.html\n",
    "keepcols = ['gebjaar', 'geslacht', 'leeftijd2019', 'positie2019',\n",
    "            'aantalhh2019','partner2019', 'sted2019', 'belbezig2019', \n",
    "            'nettohh_f2019', 'oplmet2019', 'herkomstgroep2019',\n",
    "            'burgstat2019', 'woonvorm2019', 'aantalki2019', 'cf19l128',\n",
    "           'cf19l131','cf19l132','cf19l133','cf19l134','woning2019', \n",
    "            'cf19l456', 'cw19l522', 'cr19l143', 'cr19l090',\n",
    "            'cf19l483', 'cf19l484', 'cf19l485', 'cf19l486', 'cf19l487', 'cf19l488',\n",
    "           'cf19l130', 'cf19l457', 'cf19l458', 'cf19l459']\n",
    "data = data.loc[:, keepcols]"
   ]
  },
  {
   "cell_type": "code",
   "execution_count": null,
   "id": "c1d9b133-48b6-4055-ab21-cd3e335915bc",
   "metadata": {},
   "outputs": [],
   "source": [
    "X_train, X_test, y_train, y_test = train_test_split(data,\n",
    "                                                    outcome,\n",
    "                                                    test_size=0.25, random_state=2023)\n",
    "y_train = y_train[\"new_child\"]\n",
    "y_test = y_test[\"new_child\"]"
   ]
  },
  {
   "cell_type": "code",
   "execution_count": null,
   "id": "54919fca-45c2-459e-8fe7-98b9927a21bb",
   "metadata": {},
   "outputs": [],
   "source": [
    "from sklearn.utils import resample\n",
    "target_upsample, data_upsample = resample(y_train[y_train == 1],\n",
    "                                          X_train[y_train == 1],\n",
    "             replace=True,\n",
    "             n_samples=len(y_train[y_train == 0]),\n",
    "             random_state=42)\n",
    "target_upsampled = pd.concat([target_upsample, y_train[y_train==0]])\n",
    "data_upsampled = pd.concat([data_upsample, X_train[y_train==0]])"
   ]
  },
  {
   "cell_type": "code",
   "execution_count": null,
   "id": "b6f31077-400d-4a12-ac99-c490350f744d",
   "metadata": {},
   "outputs": [],
   "source": [
    "dict_kids = {'None': 0, 'One child': 1, 'Two children': 2, 'Three children': 3, 'Four children': 4, 'Five children': 5, 'Six children': 6}\n",
    "data_upsampled[\"aantalki2019\"] = data_upsampled[\"aantalki2019\"].map(dict_kids)"
   ]
  },
  {
   "cell_type": "code",
   "execution_count": null,
   "id": "e9eea0ea-045b-4981-9dd1-fa69960e8dfc",
   "metadata": {},
   "outputs": [],
   "source": [
    "# An example of a preprocessing apart from the pipeline\n",
    "# Create transformers\n",
    "# Imputer are sometimes not necessary\n",
    "categorical_transformer = Pipeline(steps=[\n",
    "    ('imputer', SimpleImputer(strategy='most_frequent')),\n",
    "    ('encoder', OneHotEncoder(handle_unknown='infrequent_if_exist', min_frequency=50))])\n",
    "\n",
    "numerical_transformer = Pipeline(steps=[\n",
    "    ('imputer', IterativeImputer(max_iter=100)),\n",
    "    ('scaler', StandardScaler())])\n",
    "\n",
    "# Use ColumnTransformer to apply the transformations to the correct columns in the dataframe\n",
    "preprocessor = ColumnTransformer(\n",
    "    transformers=[\n",
    "        ('num', numerical_transformer, selector(dtype_exclude=object)(data_upsampled)),\n",
    "        ('cat', categorical_transformer, selector(dtype_include=object)(data_upsampled))])"
   ]
  },
  {
   "cell_type": "code",
   "execution_count": null,
   "id": "181ccfed-f7c0-499c-9a1e-a14bc7d7acca",
   "metadata": {},
   "outputs": [],
   "source": [
    "model = Pipeline([\n",
    "               (\"preprocess\", preprocessor),\n",
    "               (\"classifier\", HistGradientBoostingClassifier())\n",
    "                ]) \n",
    "                      \n",
    "# Define the hyperparameters, this can include several classifiers, but will make it slow\n",
    "# You can see different classifiers here: https://scikit-learn.org/stable/supervised_learning.html#supervised-learning\n",
    "parameters = [\n",
    "    {'classifier': [HistGradientBoostingClassifier(learning_rate=0.8, max_depth=3)]\n",
    "    },                  \n",
    "]\n",
    "\n",
    "# Perform hyperparameter tuning using cross-validation: https://scikit-learn.org/stable/modules/classes.html#hyper-parameter-optimizers\n",
    "# Scoring metrics: https://scikit-learn.org/stable/modules/model_evaluation.html\n",
    "# f1 = f1 of the class labeled as 1 (i.e. kids)\n",
    "grid_search = GridSearchCV(model, parameters, cv=5, n_jobs=-1, scoring=\"f1\", verbose=9) #n_jobs=-1 allows for multiprocessing\n",
    "grid_search.fit(data_upsampled, target_upsampled)\n",
    "\n",
    "# Keep best model (or define it from scratch with the best coefficients found)\n",
    "best_model = grid_search.best_estimator_\n",
    "\n",
    "best_model"
   ]
  },
  {
   "cell_type": "code",
   "execution_count": null,
   "id": "df98f193-c055-4eba-aa21-2e1ef0acb5ea",
   "metadata": {},
   "outputs": [],
   "source": [
    "#Variable names in the data\n",
    "best_model[\"preprocess\"].get_feature_names_out()"
   ]
  },
  {
   "cell_type": "code",
   "execution_count": null,
   "id": "5302693d-1370-4ed1-9477-e9960c3ef6c6",
   "metadata": {},
   "outputs": [],
   "source": [
    "X_test[\"aantalki2019\"] = X_test[\"aantalki2019\"].map(dict_kids)"
   ]
  },
  {
   "cell_type": "code",
   "execution_count": null,
   "id": "99a8531f-bc26-4f86-8c9c-0f32175d4fc4",
   "metadata": {},
   "outputs": [],
   "source": [
    "# Print ROC curve, it tells you how well you can balance false and true positives\n",
    "RocCurveDisplay.from_predictions(\n",
    "    y_test,\n",
    "    best_model.predict_proba(X_test)[:, 1],\n",
    "    color=\"cornflowerblue\",\n",
    ")\n",
    "plt.plot([0, 1], [0, 1], \"k--\", label=\"chance level (AUC = 0.5)\")\n",
    "plt.xlabel(\"False Positive Rate\")\n",
    "plt.ylabel(\"True Positive Rate\")\n",
    "plt.legend()\n",
    "plt.show()"
   ]
  },
  {
   "cell_type": "code",
   "execution_count": null,
   "id": "841da1fb-cb60-4aa5-b6f7-2e68536d14b2",
   "metadata": {},
   "outputs": [],
   "source": [
    "# Create predictions\n",
    "y_pred = best_model.predict(X_test)\n",
    "\n",
    "# Report classification table\n",
    "print(classification_report(y_test, y_pred))"
   ]
  },
  {
   "cell_type": "code",
   "execution_count": null,
   "id": "647e7f37-18a9-4d11-9231-743fd37c1655",
   "metadata": {},
   "outputs": [],
   "source": [
    "import os\n",
    "os.makedirs(\"../models\", exist_ok=True)\n",
    "\n",
    "# Dump model (don't change the name)\n",
    "dump(best_model, \"../models/model v2.joblib\")"
   ]
  }
 ],
 "metadata": {
  "kernelspec": {
   "display_name": "Python 3 (ipykernel)",
   "language": "python",
   "name": "python3"
  },
  "language_info": {
   "codemirror_mode": {
    "name": "ipython",
    "version": 3
   },
   "file_extension": ".py",
   "mimetype": "text/x-python",
   "name": "python",
   "nbconvert_exporter": "python",
   "pygments_lexer": "ipython3",
   "version": "3.11.4"
  }
 },
 "nbformat": 4,
 "nbformat_minor": 5
}
