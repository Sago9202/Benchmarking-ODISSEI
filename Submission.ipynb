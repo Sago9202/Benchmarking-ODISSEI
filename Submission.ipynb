{
 "cells": [
  {
   "cell_type": "markdown",
   "id": "46681230-4fc3-483e-815e-ce807dff2863",
   "metadata": {},
   "source": [
    "# Submission - Fertility Prediction LISS"
   ]
  },
  {
   "cell_type": "markdown",
   "id": "12e3355c-9f5e-495b-8c54-345fd2fd7e16",
   "metadata": {},
   "source": [
    "Before starting to work we should load all the different packages that we will need for the analyses"
   ]
  },
  {
   "cell_type": "code",
   "execution_count": 18,
   "id": "4d846ec9-79eb-4d62-8ef2-3003567d206b",
   "metadata": {},
   "outputs": [],
   "source": [
    "# Classifier imports\n",
    "from sklearn.model_selection import GridSearchCV, train_test_split\n",
    "from sklearn.preprocessing import OneHotEncoder, StandardScaler\n",
    "from sklearn.linear_model import LogisticRegression\n",
    "from sklearn.pipeline import Pipeline\n",
    "from sklearn.impute import SimpleImputer\n",
    "from sklearn.compose import ColumnTransformer\n",
    "from sklearn.compose import make_column_selector as selector\n",
    "from sklearn.metrics import classification_report\n",
    "from sklearn.metrics import RocCurveDisplay\n",
    "from sklearn.utils import resample\n",
    "from sklearn.ensemble import RandomForestClassifier\n",
    "\n",
    "import os.path\n",
    "import pylab as plt\n",
    "import pandas as pd\n",
    "import numpy as np\n",
    "\n",
    "from joblib import dump, load"
   ]
  },
  {
   "cell_type": "markdown",
   "id": "a399f513-c50b-48af-b71d-1d483090244a",
   "metadata": {},
   "source": [
    "# 1. Read the data"
   ]
  },
  {
   "cell_type": "code",
   "execution_count": 19,
   "id": "b7a82e9e-a77f-4c5a-8ec6-c41ae4fabdc5",
   "metadata": {},
   "outputs": [],
   "source": [
    "data_folder_path = \"C://Users//Startklar//Dropbox//PhD VU//Summer Schools//fertility-prediction-challenge//data\"\n",
    "path_train = os.path.join(data_folder_path, \"LISS_example_input_data.csv\")\n",
    "path_outcome = os.path.join(data_folder_path, \"LISS_example_groundtruth_data.csv\")"
   ]
  },
  {
   "cell_type": "code",
   "execution_count": 20,
   "id": "5888e3da-bd2f-4b12-9ff1-ea60383ed297",
   "metadata": {},
   "outputs": [],
   "source": [
    "# Read data\n",
    "data = pd.read_csv(path_train, encoding=\"cp1252\", low_memory=False)\n",
    "outcome = pd.read_csv(path_outcome, encoding=\"cp1252\", low_memory=False)\n",
    "\n",
    "# Drop observations where the outcome is missing\n",
    "y_isna = outcome['new_child'].isnull()\n",
    "full_data = data.loc[~y_isna]\n",
    "outcome = outcome.loc[~y_isna]"
   ]
  },
  {
   "cell_type": "code",
   "execution_count": 21,
   "id": "323bab1b-03e1-4574-9683-ea8528099dc5",
   "metadata": {},
   "outputs": [],
   "source": [
    "# Pre-pre process (keep some columns)\n",
    "keepcols = ['gebjaar', 'geslacht', 'leeftijd2019',\n",
    "            'aantalhh2019','partner2019', 'sted2019', 'belbezig2019', \n",
    "            'nettoink2019', 'oplmet2019', 'herkomstgroep2019',\n",
    "            'burgstat2019', 'woonvorm2019', 'aantalki2019']\n",
    "data = data.loc[:, keepcols]"
   ]
  },
  {
   "cell_type": "code",
   "execution_count": 22,
   "id": "836f3601-a69a-44ab-91e6-d2a2056d4c1b",
   "metadata": {},
   "outputs": [],
   "source": [
    "X_train, X_test, y_train, y_test = train_test_split(\n",
    "    full_data,\n",
    "    outcome,\n",
    "    test_size=0.1, random_state=2023)\n",
    "y_train = y_train[\"new_child\"]\n",
    "y_test = y_test[\"new_child\"]"
   ]
  },
  {
   "cell_type": "code",
   "execution_count": 23,
   "id": "1e60ee81-da97-4e3a-bf50-079d7d083b7f",
   "metadata": {},
   "outputs": [],
   "source": [
    "y_upsample, X_upsample = resample(y_train[y_train == 1],\n",
    "                                          X_train[y_train == 1],\n",
    "             replace=True,\n",
    "             n_samples=len(outcome),\n",
    "             random_state=42)\n",
    "\n",
    "#add upsample to dataset\n",
    "y_upsampled = pd.concat([y_upsample, y_train[y_train==0]])\n",
    "X_upsampled = pd.concat([X_upsample, X_train[y_train==0]])"
   ]
  },
  {
   "cell_type": "code",
   "execution_count": 24,
   "id": "dfeef498-f4dc-4bcf-92a0-7c91783c6a8f",
   "metadata": {},
   "outputs": [],
   "source": [
    "# Create transformers\n",
    "categorical_transformer = Pipeline(steps=[\n",
    "    ('imputer', SimpleImputer(strategy='most_frequent')),\n",
    "    ('encoder', OneHotEncoder(handle_unknown='infrequent_if_exist'))])\n",
    "\n",
    "numerical_transformer = Pipeline(steps=[\n",
    "    ('imputer', SimpleImputer(strategy='mean')),\n",
    "    ('scaler', StandardScaler())])\n",
    "\n",
    "# Use ColumnTransformer to apply the transformations to the correct columns in the dataframe\n",
    "preprocessor = ColumnTransformer(\n",
    "    transformers=[\n",
    "        ('num', numerical_transformer, selector(dtype_exclude=object)(data)),\n",
    "        ('cat', categorical_transformer, selector(dtype_include=object)(data))])"
   ]
  },
  {
   "cell_type": "code",
   "execution_count": 25,
   "id": "9cf93466-e73c-4ec2-828d-9bdf4e2a5eff",
   "metadata": {},
   "outputs": [
    {
     "data": {
      "text/html": [
       "<style>#sk-container-id-1 {color: black;background-color: white;}#sk-container-id-1 pre{padding: 0;}#sk-container-id-1 div.sk-toggleable {background-color: white;}#sk-container-id-1 label.sk-toggleable__label {cursor: pointer;display: block;width: 100%;margin-bottom: 0;padding: 0.3em;box-sizing: border-box;text-align: center;}#sk-container-id-1 label.sk-toggleable__label-arrow:before {content: \"▸\";float: left;margin-right: 0.25em;color: #696969;}#sk-container-id-1 label.sk-toggleable__label-arrow:hover:before {color: black;}#sk-container-id-1 div.sk-estimator:hover label.sk-toggleable__label-arrow:before {color: black;}#sk-container-id-1 div.sk-toggleable__content {max-height: 0;max-width: 0;overflow: hidden;text-align: left;background-color: #f0f8ff;}#sk-container-id-1 div.sk-toggleable__content pre {margin: 0.2em;color: black;border-radius: 0.25em;background-color: #f0f8ff;}#sk-container-id-1 input.sk-toggleable__control:checked~div.sk-toggleable__content {max-height: 200px;max-width: 100%;overflow: auto;}#sk-container-id-1 input.sk-toggleable__control:checked~label.sk-toggleable__label-arrow:before {content: \"▾\";}#sk-container-id-1 div.sk-estimator input.sk-toggleable__control:checked~label.sk-toggleable__label {background-color: #d4ebff;}#sk-container-id-1 div.sk-label input.sk-toggleable__control:checked~label.sk-toggleable__label {background-color: #d4ebff;}#sk-container-id-1 input.sk-hidden--visually {border: 0;clip: rect(1px 1px 1px 1px);clip: rect(1px, 1px, 1px, 1px);height: 1px;margin: -1px;overflow: hidden;padding: 0;position: absolute;width: 1px;}#sk-container-id-1 div.sk-estimator {font-family: monospace;background-color: #f0f8ff;border: 1px dotted black;border-radius: 0.25em;box-sizing: border-box;margin-bottom: 0.5em;}#sk-container-id-1 div.sk-estimator:hover {background-color: #d4ebff;}#sk-container-id-1 div.sk-parallel-item::after {content: \"\";width: 100%;border-bottom: 1px solid gray;flex-grow: 1;}#sk-container-id-1 div.sk-label:hover label.sk-toggleable__label {background-color: #d4ebff;}#sk-container-id-1 div.sk-serial::before {content: \"\";position: absolute;border-left: 1px solid gray;box-sizing: border-box;top: 0;bottom: 0;left: 50%;z-index: 0;}#sk-container-id-1 div.sk-serial {display: flex;flex-direction: column;align-items: center;background-color: white;padding-right: 0.2em;padding-left: 0.2em;position: relative;}#sk-container-id-1 div.sk-item {position: relative;z-index: 1;}#sk-container-id-1 div.sk-parallel {display: flex;align-items: stretch;justify-content: center;background-color: white;position: relative;}#sk-container-id-1 div.sk-item::before, #sk-container-id-1 div.sk-parallel-item::before {content: \"\";position: absolute;border-left: 1px solid gray;box-sizing: border-box;top: 0;bottom: 0;left: 50%;z-index: -1;}#sk-container-id-1 div.sk-parallel-item {display: flex;flex-direction: column;z-index: 1;position: relative;background-color: white;}#sk-container-id-1 div.sk-parallel-item:first-child::after {align-self: flex-end;width: 50%;}#sk-container-id-1 div.sk-parallel-item:last-child::after {align-self: flex-start;width: 50%;}#sk-container-id-1 div.sk-parallel-item:only-child::after {width: 0;}#sk-container-id-1 div.sk-dashed-wrapped {border: 1px dashed gray;margin: 0 0.4em 0.5em 0.4em;box-sizing: border-box;padding-bottom: 0.4em;background-color: white;}#sk-container-id-1 div.sk-label label {font-family: monospace;font-weight: bold;display: inline-block;line-height: 1.2em;}#sk-container-id-1 div.sk-label-container {text-align: center;}#sk-container-id-1 div.sk-container {/* jupyter's `normalize.less` sets `[hidden] { display: none; }` but bootstrap.min.css set `[hidden] { display: none !important; }` so we also need the `!important` here to be able to override the default hidden behavior on the sphinx rendered scikit-learn.org. See: https://github.com/scikit-learn/scikit-learn/issues/21755 */display: inline-block !important;position: relative;}#sk-container-id-1 div.sk-text-repr-fallback {display: none;}</style><div id=\"sk-container-id-1\" class=\"sk-top-container\"><div class=\"sk-text-repr-fallback\"><pre>Pipeline(steps=[(&#x27;preprocess&#x27;,\n",
       "                 ColumnTransformer(transformers=[(&#x27;num&#x27;,\n",
       "                                                  Pipeline(steps=[(&#x27;imputer&#x27;,\n",
       "                                                                   SimpleImputer()),\n",
       "                                                                  (&#x27;scaler&#x27;,\n",
       "                                                                   StandardScaler())]),\n",
       "                                                  [&#x27;gebjaar&#x27;, &#x27;leeftijd2019&#x27;,\n",
       "                                                   &#x27;nettoink2019&#x27;]),\n",
       "                                                 (&#x27;cat&#x27;,\n",
       "                                                  Pipeline(steps=[(&#x27;imputer&#x27;,\n",
       "                                                                   SimpleImputer(strategy=&#x27;most_frequent&#x27;)),\n",
       "                                                                  (&#x27;encoder&#x27;,\n",
       "                                                                   OneHotEncoder(handle_unknown=&#x27;infrequent_if_exist&#x27;))]),\n",
       "                                                  [&#x27;geslacht&#x27;, &#x27;aantalhh2019&#x27;,\n",
       "                                                   &#x27;partner2019&#x27;, &#x27;sted2019&#x27;,\n",
       "                                                   &#x27;belbezig2019&#x27;, &#x27;oplmet2019&#x27;,\n",
       "                                                   &#x27;herkomstgroep2019&#x27;,\n",
       "                                                   &#x27;burgstat2019&#x27;,\n",
       "                                                   &#x27;woonvorm2019&#x27;,\n",
       "                                                   &#x27;aantalki2019&#x27;])])),\n",
       "                (&#x27;classifier&#x27;, RandomForestClassifier())])</pre><b>In a Jupyter environment, please rerun this cell to show the HTML representation or trust the notebook. <br />On GitHub, the HTML representation is unable to render, please try loading this page with nbviewer.org.</b></div><div class=\"sk-container\" hidden><div class=\"sk-item sk-dashed-wrapped\"><div class=\"sk-label-container\"><div class=\"sk-label sk-toggleable\"><input class=\"sk-toggleable__control sk-hidden--visually\" id=\"sk-estimator-id-1\" type=\"checkbox\" ><label for=\"sk-estimator-id-1\" class=\"sk-toggleable__label sk-toggleable__label-arrow\">Pipeline</label><div class=\"sk-toggleable__content\"><pre>Pipeline(steps=[(&#x27;preprocess&#x27;,\n",
       "                 ColumnTransformer(transformers=[(&#x27;num&#x27;,\n",
       "                                                  Pipeline(steps=[(&#x27;imputer&#x27;,\n",
       "                                                                   SimpleImputer()),\n",
       "                                                                  (&#x27;scaler&#x27;,\n",
       "                                                                   StandardScaler())]),\n",
       "                                                  [&#x27;gebjaar&#x27;, &#x27;leeftijd2019&#x27;,\n",
       "                                                   &#x27;nettoink2019&#x27;]),\n",
       "                                                 (&#x27;cat&#x27;,\n",
       "                                                  Pipeline(steps=[(&#x27;imputer&#x27;,\n",
       "                                                                   SimpleImputer(strategy=&#x27;most_frequent&#x27;)),\n",
       "                                                                  (&#x27;encoder&#x27;,\n",
       "                                                                   OneHotEncoder(handle_unknown=&#x27;infrequent_if_exist&#x27;))]),\n",
       "                                                  [&#x27;geslacht&#x27;, &#x27;aantalhh2019&#x27;,\n",
       "                                                   &#x27;partner2019&#x27;, &#x27;sted2019&#x27;,\n",
       "                                                   &#x27;belbezig2019&#x27;, &#x27;oplmet2019&#x27;,\n",
       "                                                   &#x27;herkomstgroep2019&#x27;,\n",
       "                                                   &#x27;burgstat2019&#x27;,\n",
       "                                                   &#x27;woonvorm2019&#x27;,\n",
       "                                                   &#x27;aantalki2019&#x27;])])),\n",
       "                (&#x27;classifier&#x27;, RandomForestClassifier())])</pre></div></div></div><div class=\"sk-serial\"><div class=\"sk-item sk-dashed-wrapped\"><div class=\"sk-label-container\"><div class=\"sk-label sk-toggleable\"><input class=\"sk-toggleable__control sk-hidden--visually\" id=\"sk-estimator-id-2\" type=\"checkbox\" ><label for=\"sk-estimator-id-2\" class=\"sk-toggleable__label sk-toggleable__label-arrow\">preprocess: ColumnTransformer</label><div class=\"sk-toggleable__content\"><pre>ColumnTransformer(transformers=[(&#x27;num&#x27;,\n",
       "                                 Pipeline(steps=[(&#x27;imputer&#x27;, SimpleImputer()),\n",
       "                                                 (&#x27;scaler&#x27;, StandardScaler())]),\n",
       "                                 [&#x27;gebjaar&#x27;, &#x27;leeftijd2019&#x27;, &#x27;nettoink2019&#x27;]),\n",
       "                                (&#x27;cat&#x27;,\n",
       "                                 Pipeline(steps=[(&#x27;imputer&#x27;,\n",
       "                                                  SimpleImputer(strategy=&#x27;most_frequent&#x27;)),\n",
       "                                                 (&#x27;encoder&#x27;,\n",
       "                                                  OneHotEncoder(handle_unknown=&#x27;infrequent_if_exist&#x27;))]),\n",
       "                                 [&#x27;geslacht&#x27;, &#x27;aantalhh2019&#x27;, &#x27;partner2019&#x27;,\n",
       "                                  &#x27;sted2019&#x27;, &#x27;belbezig2019&#x27;, &#x27;oplmet2019&#x27;,\n",
       "                                  &#x27;herkomstgroep2019&#x27;, &#x27;burgstat2019&#x27;,\n",
       "                                  &#x27;woonvorm2019&#x27;, &#x27;aantalki2019&#x27;])])</pre></div></div></div><div class=\"sk-parallel\"><div class=\"sk-parallel-item\"><div class=\"sk-item\"><div class=\"sk-label-container\"><div class=\"sk-label sk-toggleable\"><input class=\"sk-toggleable__control sk-hidden--visually\" id=\"sk-estimator-id-3\" type=\"checkbox\" ><label for=\"sk-estimator-id-3\" class=\"sk-toggleable__label sk-toggleable__label-arrow\">num</label><div class=\"sk-toggleable__content\"><pre>[&#x27;gebjaar&#x27;, &#x27;leeftijd2019&#x27;, &#x27;nettoink2019&#x27;]</pre></div></div></div><div class=\"sk-serial\"><div class=\"sk-item\"><div class=\"sk-serial\"><div class=\"sk-item\"><div class=\"sk-estimator sk-toggleable\"><input class=\"sk-toggleable__control sk-hidden--visually\" id=\"sk-estimator-id-4\" type=\"checkbox\" ><label for=\"sk-estimator-id-4\" class=\"sk-toggleable__label sk-toggleable__label-arrow\">SimpleImputer</label><div class=\"sk-toggleable__content\"><pre>SimpleImputer()</pre></div></div></div><div class=\"sk-item\"><div class=\"sk-estimator sk-toggleable\"><input class=\"sk-toggleable__control sk-hidden--visually\" id=\"sk-estimator-id-5\" type=\"checkbox\" ><label for=\"sk-estimator-id-5\" class=\"sk-toggleable__label sk-toggleable__label-arrow\">StandardScaler</label><div class=\"sk-toggleable__content\"><pre>StandardScaler()</pre></div></div></div></div></div></div></div></div><div class=\"sk-parallel-item\"><div class=\"sk-item\"><div class=\"sk-label-container\"><div class=\"sk-label sk-toggleable\"><input class=\"sk-toggleable__control sk-hidden--visually\" id=\"sk-estimator-id-6\" type=\"checkbox\" ><label for=\"sk-estimator-id-6\" class=\"sk-toggleable__label sk-toggleable__label-arrow\">cat</label><div class=\"sk-toggleable__content\"><pre>[&#x27;geslacht&#x27;, &#x27;aantalhh2019&#x27;, &#x27;partner2019&#x27;, &#x27;sted2019&#x27;, &#x27;belbezig2019&#x27;, &#x27;oplmet2019&#x27;, &#x27;herkomstgroep2019&#x27;, &#x27;burgstat2019&#x27;, &#x27;woonvorm2019&#x27;, &#x27;aantalki2019&#x27;]</pre></div></div></div><div class=\"sk-serial\"><div class=\"sk-item\"><div class=\"sk-serial\"><div class=\"sk-item\"><div class=\"sk-estimator sk-toggleable\"><input class=\"sk-toggleable__control sk-hidden--visually\" id=\"sk-estimator-id-7\" type=\"checkbox\" ><label for=\"sk-estimator-id-7\" class=\"sk-toggleable__label sk-toggleable__label-arrow\">SimpleImputer</label><div class=\"sk-toggleable__content\"><pre>SimpleImputer(strategy=&#x27;most_frequent&#x27;)</pre></div></div></div><div class=\"sk-item\"><div class=\"sk-estimator sk-toggleable\"><input class=\"sk-toggleable__control sk-hidden--visually\" id=\"sk-estimator-id-8\" type=\"checkbox\" ><label for=\"sk-estimator-id-8\" class=\"sk-toggleable__label sk-toggleable__label-arrow\">OneHotEncoder</label><div class=\"sk-toggleable__content\"><pre>OneHotEncoder(handle_unknown=&#x27;infrequent_if_exist&#x27;)</pre></div></div></div></div></div></div></div></div></div></div><div class=\"sk-item\"><div class=\"sk-estimator sk-toggleable\"><input class=\"sk-toggleable__control sk-hidden--visually\" id=\"sk-estimator-id-9\" type=\"checkbox\" ><label for=\"sk-estimator-id-9\" class=\"sk-toggleable__label sk-toggleable__label-arrow\">RandomForestClassifier</label><div class=\"sk-toggleable__content\"><pre>RandomForestClassifier()</pre></div></div></div></div></div></div></div>"
      ],
      "text/plain": [
       "Pipeline(steps=[('preprocess',\n",
       "                 ColumnTransformer(transformers=[('num',\n",
       "                                                  Pipeline(steps=[('imputer',\n",
       "                                                                   SimpleImputer()),\n",
       "                                                                  ('scaler',\n",
       "                                                                   StandardScaler())]),\n",
       "                                                  ['gebjaar', 'leeftijd2019',\n",
       "                                                   'nettoink2019']),\n",
       "                                                 ('cat',\n",
       "                                                  Pipeline(steps=[('imputer',\n",
       "                                                                   SimpleImputer(strategy='most_frequent')),\n",
       "                                                                  ('encoder',\n",
       "                                                                   OneHotEncoder(handle_unknown='infrequent_if_exist'))]),\n",
       "                                                  ['geslacht', 'aantalhh2019',\n",
       "                                                   'partner2019', 'sted2019',\n",
       "                                                   'belbezig2019', 'oplmet2019',\n",
       "                                                   'herkomstgroep2019',\n",
       "                                                   'burgstat2019',\n",
       "                                                   'woonvorm2019',\n",
       "                                                   'aantalki2019'])])),\n",
       "                ('classifier', RandomForestClassifier())])"
      ]
     },
     "execution_count": 25,
     "metadata": {},
     "output_type": "execute_result"
    }
   ],
   "source": [
    "# Create pipeline\n",
    "model = Pipeline([\n",
    "               (\"preprocess\", preprocessor),\n",
    "               (\"classifier\", RandomForestClassifier())\n",
    "               ]) \n",
    "                      \n",
    "# Define the hyperparameters\n",
    "#parameters = [\n",
    "#    {\n",
    "#        'classifier': [LogisticRegression(max_iter=500)],\n",
    "#        'classifier__C': np.logspace(-1, 5, 50)\n",
    "#    },\n",
    "#    \n",
    "#\n",
    "#]\n",
    "\n",
    "# Perform hyperparameter tuning using cross-validation\n",
    "#grid_search = GridSearchCV(model, parameters, cv=5, n_jobs=-1, scoring=\"f1\", verbose=3)\n",
    "#grid_search.fit(X_upsampled, y_upsampled)\n",
    "\n",
    "# Keep best model\n",
    "#best_model = grid_search.best_estimator_\n",
    "best_model = model.fit(X_upsampled, y_upsampled)\n",
    "best_model"
   ]
  },
  {
   "cell_type": "code",
   "execution_count": 26,
   "id": "dcd3b8ee-c5dd-42d1-959d-062f342f0d07",
   "metadata": {
    "collapsed": true,
    "jupyter": {
     "outputs_hidden": true
    },
    "tags": []
   },
   "outputs": [
    {
     "data": {
      "image/png": "[encoded data removed]",
      "text/plain": [
       "<Figure size 640x480 with 1 Axes>"
      ]
     },
     "metadata": {},
     "output_type": "display_data"
    }
   ],
   "source": [
    "RocCurveDisplay.from_predictions(\n",
    "    y_test,\n",
    "    best_model.predict_proba(X_test)[:, 1],\n",
    "    color=\"cornflowerblue\",\n",
    ")\n",
    "plt.plot([0, 1], [0, 1], \"k--\", label=\"chance level (AUC = 0.5)\")\n",
    "plt.xlabel(\"False Positive Rate\")\n",
    "plt.ylabel(\"True Positive Rate\")\n",
    "plt.legend()\n",
    "plt.show()"
   ]
  },
  {
   "cell_type": "code",
   "execution_count": 27,
   "id": "d43e1396-cfe1-4e65-8e36-3ec29a10c59f",
   "metadata": {},
   "outputs": [
    {
     "name": "stdout",
     "output_type": "stream",
     "text": [
      "              precision    recall  f1-score   support\n",
      "\n",
      "         0.0       0.86      0.91      0.88        75\n",
      "         1.0       0.42      0.31      0.36        16\n",
      "\n",
      "    accuracy                           0.80        91\n",
      "   macro avg       0.64      0.61      0.62        91\n",
      "weighted avg       0.78      0.80      0.79        91\n",
      "\n"
     ]
    }
   ],
   "source": [
    "# Create predictions\n",
    "y_pred = best_model.predict(X_test)\n",
    "\n",
    "# Report\n",
    "print(classification_report(y_test, y_pred))"
   ]
  },
  {
   "cell_type": "code",
   "execution_count": 48,
   "id": "d9b41261-2a6f-4e8d-9d75-0d058189f092",
   "metadata": {},
   "outputs": [
    {
     "data": {
      "text/plain": [
       "['C://Users//Startklar//Dropbox//PhD VU//Summer Schools//fertility-prediction-challenge//models\\\\model.joblib']"
      ]
     },
     "execution_count": 48,
     "metadata": {},
     "output_type": "execute_result"
    }
   ],
   "source": [
    "models_path = os.path.join(\"C:/Users/Startklar/Dropbox/PhD VU/Summer Schools/fertility-prediction-challenge/models\")\n",
    "os.makedirs(models_path, exist_ok=True)\n",
    "\n",
    "# Dump model (don't change the name)\n",
    "dump(best_model, os.path.join(models_path, \"model.joblib\"))"
   ]
  },
  {
   "cell_type": "code",
   "execution_count": 49,
   "id": "1c3d7a38-6254-48fa-86a8-3c9eb3f5e95c",
   "metadata": {},
   "outputs": [],
   "source": [
    "def predict_outcomes(df):\n",
    "    # Keep \n",
    "    keepcols = ['gebjaar', 'geslacht', 'leeftijd2019',\n",
    "            'aantalhh2019','partner2019', 'sted2019', 'belbezig2019', \n",
    "            'nettoink2019', 'oplmet2019', 'herkomstgroep2019',\n",
    "            'burgstat2019', 'woonvorm2019', 'aantalki2019']\n",
    "    nomem_encr = df[\"nomem_encr\"]\n",
    "    \n",
    "    df = df.loc[:, keepcols]\n",
    "    \n",
    "    # Load your trained model from the models directory\n",
    "    model_path = os.path.join(os.path.dirname(__file__), \"..\", \"models\", \"model.joblib\")\n",
    "    model = load(model_path)\n",
    "\n",
    "    # Use your trained model for prediction\n",
    "    predictions = model.predict(df)\n",
    "    # Return the result as a Pandas DataFrame with the columns \"nomem_encr\" and \"prediction\"\n",
    "    return pd.concat([nomem_encr, pd.Series(predictions, name=\"prediction\")], axis=1)"
   ]
  },
  {
   "cell_type": "code",
   "execution_count": 52,
   "id": "962ad5a4-92a6-48fa-957f-d3ed3dfa6294",
   "metadata": {},
   "outputs": [],
   "source": [
    "or_data = pd.read_csv(path_train, encoding=\"cp1252\", low_memory=False)"
   ]
  },
  {
   "cell_type": "code",
   "execution_count": 56,
   "id": "4438ec35-d84e-438e-a26a-11c83e48ae61",
   "metadata": {},
   "outputs": [
    {
     "data": {
      "text/html": [
       "<div>\n",
       "<style scoped>\n",
       "    .dataframe tbody tr th:only-of-type {\n",
       "        vertical-align: middle;\n",
       "    }\n",
       "\n",
       "    .dataframe tbody tr th {\n",
       "        vertical-align: top;\n",
       "    }\n",
       "\n",
       "    .dataframe thead th {\n",
       "        text-align: right;\n",
       "    }\n",
       "</style>\n",
       "<table border=\"1\" class=\"dataframe\">\n",
       "  <thead>\n",
       "    <tr style=\"text-align: right;\">\n",
       "      <th></th>\n",
       "      <th>nomem_encr</th>\n",
       "      <th>prediction</th>\n",
       "    </tr>\n",
       "  </thead>\n",
       "  <tbody>\n",
       "    <tr>\n",
       "      <th>0</th>\n",
       "      <td>800000.0</td>\n",
       "      <td>1.0</td>\n",
       "    </tr>\n",
       "    <tr>\n",
       "      <th>1</th>\n",
       "      <td>800018.0</td>\n",
       "      <td>0.0</td>\n",
       "    </tr>\n",
       "    <tr>\n",
       "      <th>2</th>\n",
       "      <td>800021.0</td>\n",
       "      <td>0.0</td>\n",
       "    </tr>\n",
       "    <tr>\n",
       "      <th>3</th>\n",
       "      <td>800033.0</td>\n",
       "      <td>0.0</td>\n",
       "    </tr>\n",
       "    <tr>\n",
       "      <th>4</th>\n",
       "      <td>800042.0</td>\n",
       "      <td>0.0</td>\n",
       "    </tr>\n",
       "    <tr>\n",
       "      <th>...</th>\n",
       "      <td>...</td>\n",
       "      <td>...</td>\n",
       "    </tr>\n",
       "    <tr>\n",
       "      <th>9454</th>\n",
       "      <td>899917.0</td>\n",
       "      <td>0.0</td>\n",
       "    </tr>\n",
       "    <tr>\n",
       "      <th>9455</th>\n",
       "      <td>899935.0</td>\n",
       "      <td>0.0</td>\n",
       "    </tr>\n",
       "    <tr>\n",
       "      <th>9456</th>\n",
       "      <td>899942.0</td>\n",
       "      <td>1.0</td>\n",
       "    </tr>\n",
       "    <tr>\n",
       "      <th>9457</th>\n",
       "      <td>899957.0</td>\n",
       "      <td>0.0</td>\n",
       "    </tr>\n",
       "    <tr>\n",
       "      <th>9458</th>\n",
       "      <td>899960.0</td>\n",
       "      <td>0.0</td>\n",
       "    </tr>\n",
       "  </tbody>\n",
       "</table>\n",
       "<p>9459 rows × 2 columns</p>\n",
       "</div>"
      ],
      "text/plain": [
       "      nomem_encr  prediction\n",
       "0       800000.0         1.0\n",
       "1       800018.0         0.0\n",
       "2       800021.0         0.0\n",
       "3       800033.0         0.0\n",
       "4       800042.0         0.0\n",
       "...          ...         ...\n",
       "9454    899917.0         0.0\n",
       "9455    899935.0         0.0\n",
       "9456    899942.0         1.0\n",
       "9457    899957.0         0.0\n",
       "9458    899960.0         0.0\n",
       "\n",
       "[9459 rows x 2 columns]"
      ]
     },
     "execution_count": 56,
     "metadata": {},
     "output_type": "execute_result"
    }
   ],
   "source": [
    "__file__ = \"C:/Users/Startklar/Dropbox/PhD VU/Summer Schools/fertility-prediction-challenge/models/\"\n",
    "predict_outcomes(or_data)"
   ]
  },
  {
   "cell_type": "code",
   "execution_count": 57,
   "id": "f6b81838-7286-44fe-9e7d-cf8b2a260938",
   "metadata": {},
   "outputs": [
    {
     "data": {
      "text/plain": [
       "'1.2.1'"
      ]
     },
     "execution_count": 57,
     "metadata": {},
     "output_type": "execute_result"
    }
   ],
   "source": [
    "import sklearn\n",
    "sklearn.__version__\n"
   ]
  },
  {
   "cell_type": "code",
   "execution_count": null,
   "id": "1c25f0eb-f5aa-4e95-a378-cdf1e538c09e",
   "metadata": {},
   "outputs": [],
   "source": []
  }
 ],
 "metadata": {
  "kernelspec": {
   "display_name": "Python 3 (ipykernel)",
   "language": "python",
   "name": "python3"
  },
  "language_info": {
   "codemirror_mode": {
    "name": "ipython",
    "version": 3
   },
   "file_extension": ".py",
   "mimetype": "text/x-python",
   "name": "python",
   "nbconvert_exporter": "python",
   "pygments_lexer": "ipython3",
   "version": "3.10.9"
  }
 },
 "nbformat": 4,
 "nbformat_minor": 5
}
