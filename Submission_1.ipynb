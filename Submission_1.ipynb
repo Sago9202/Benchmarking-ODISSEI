{
 "cells": [
  {
   "cell_type": "markdown",
   "id": "dec96c58",
   "metadata": {},
   "source": [
    "# Example pipeline\n",
    "This example pipeline trains a model that can be used for challenge."
   ]
  },
  {
   "cell_type": "code",
   "execution_count": 62,
   "id": "ee09a12f",
   "metadata": {},
   "outputs": [],
   "source": [
    "# Classifier imports\n",
    "from sklearn.model_selection import GridSearchCV, train_test_split\n",
    "from sklearn.preprocessing import OneHotEncoder, StandardScaler\n",
    "from sklearn.linear_model import LogisticRegression\n",
    "from sklearn.pipeline import Pipeline\n",
    "from sklearn.impute import SimpleImputer\n",
    "from sklearn.compose import ColumnTransformer\n",
    "from sklearn.compose import make_column_selector as selector\n",
    "from sklearn.metrics import classification_report\n",
    "from sklearn.metrics import RocCurveDisplay\n",
    "from sklearn.utils import resample\n",
    "from sklearn.ensemble import RandomForestRegressor\n",
    "\n",
    "import os.path\n",
    "import pylab as plt\n",
    "import pandas as pd\n",
    "import numpy as np\n",
    "\n",
    "from joblib import dump, load"
   ]
  },
  {
   "cell_type": "markdown",
   "id": "e5228901",
   "metadata": {},
   "source": [
    "# 1. Read data\n",
    "First download the data files by following [the instructions](https://github.com/eyra/fertility-prediction-challenge#preparation)."
   ]
  },
  {
   "cell_type": "code",
   "execution_count": 63,
   "id": "64b02af0",
   "metadata": {},
   "outputs": [],
   "source": [
    "# Data paths; the LISS data files that you've downloaded should be placed in the `data` folder\n",
    "# (where the `fake_data.csv` is located).\n",
    "data_folder_path = \"C://Users//Startklar//Downloads\"\n",
    "path_train = os.path.join(data_folder_path, \"LISS_example_input_data.csv\")\n",
    "path_outcome = os.path.join(data_folder_path, \"LISS_example_groundtruth_data.csv\")"
   ]
  },
  {
   "cell_type": "code",
   "execution_count": 64,
   "id": "407c83dd",
   "metadata": {
    "scrolled": true
   },
   "outputs": [],
   "source": [
    "# Read data\n",
    "full_data = pd.read_csv(path_train, encoding=\"cp1252\", low_memory=False)\n",
    "outcome = pd.read_csv(path_outcome, encoding=\"cp1252\", low_memory=False)\n",
    "\n",
    "# Drop observations where the outcome is missing\n",
    "y_isna = outcome['new_child'].isnull()\n",
    "full_data = full_data.loc[~y_isna]\n",
    "outcome = outcome.loc[~y_isna]"
   ]
  },
  {
   "cell_type": "markdown",
   "id": "673cdba7",
   "metadata": {},
   "source": [
    "# 2. Split data into train and test\n",
    "First thing always, otherwise you risk overfitting."
   ]
  },
  {
   "cell_type": "code",
   "execution_count": 65,
   "id": "5f4252fa",
   "metadata": {},
   "outputs": [],
   "source": [
    "X_train, X_test, y_train, y_test = train_test_split(\n",
    "    full_data,\n",
    "    outcome,\n",
    "    test_size=0.1, random_state=2023)\n",
    "y_train = y_train[\"new_child\"]\n",
    "y_test = y_test[\"new_child\"]"
   ]
  },
  {
   "cell_type": "markdown",
   "id": "54490bf1",
   "metadata": {},
   "source": [
    "# 3. Pre-process and model\n",
    "You may not want to include the preprocessing in the pipeline if it becomes too cumbersome.\n",
    "\n",
    "Make sure to use the scoring that you want to optimize in the search space."
   ]
  },
  {
   "cell_type": "code",
   "execution_count": 77,
   "id": "5a23c548",
   "metadata": {},
   "outputs": [],
   "source": [
    "# Pre-pre process (keep some columns)\n",
    "keepcols = ['gebjaar', 'geslacht', 'leeftijd2019',\n",
    "            'aantalhh2019','partner2019', 'sted2019', 'belbezig2019', \n",
    "            'nettoink2019', 'oplmet2019', 'herkomstgroep2019',\n",
    "            'burgstat2019', 'leeftijd2019', 'woonvorm2019', 'oplmet2019', 'aantalki2019']\n",
    "data = full_data.loc[:, keepcols]"
   ]
  },
  {
   "cell_type": "code",
   "execution_count": 86,
   "id": "f6ea5c59-7972-4f4e-9e13-598193a71aca",
   "metadata": {},
   "outputs": [],
   "source": [
    "y_upsample, X_upsample = resample(y_train[y_train == 1],\n",
    "                                          X_train[y_train == 1],\n",
    "             replace=True,\n",
    "             n_samples=len(outcome),\n",
    "             random_state=42)\n",
    "\n",
    "#add upsample to dataset\n",
    "y_upsampled = pd.concat([y_upsample, y_train[y_train==0]])\n",
    "X_upsampled = pd.concat([X_upsample, X_train[y_train==0]])"
   ]
  },
  {
   "cell_type": "code",
   "execution_count": 87,
   "id": "84e16fa8",
   "metadata": {},
   "outputs": [],
   "source": [
    "# Create transformers\n",
    "categorical_transformer = Pipeline(steps=[\n",
    "    ('imputer', SimpleImputer(strategy='most_frequent')),\n",
    "    ('encoder', OneHotEncoder(handle_unknown='infrequent_if_exist'))])\n",
    "\n",
    "numerical_transformer = Pipeline(steps=[\n",
    "    ('imputer', SimpleImputer(strategy='mean')),\n",
    "    ('scaler', StandardScaler())])\n",
    "\n",
    "# Use ColumnTransformer to apply the transformations to the correct columns in the dataframe\n",
    "preprocessor = ColumnTransformer(\n",
    "    transformers=[\n",
    "        ('num', numerical_transformer, selector(dtype_exclude=object)(data)),\n",
    "        ('cat', categorical_transformer, selector(dtype_include=object)(data))])"
   ]
  },
  {
   "cell_type": "code",
   "execution_count": 91,
   "id": "49d788e0",
   "metadata": {},
   "outputs": [
    {
     "data": {
      "text/html": [
       "<style>#sk-container-id-8 {color: black;background-color: white;}#sk-container-id-8 pre{padding: 0;}#sk-container-id-8 div.sk-toggleable {background-color: white;}#sk-container-id-8 label.sk-toggleable__label {cursor: pointer;display: block;width: 100%;margin-bottom: 0;padding: 0.3em;box-sizing: border-box;text-align: center;}#sk-container-id-8 label.sk-toggleable__label-arrow:before {content: \"▸\";float: left;margin-right: 0.25em;color: #696969;}#sk-container-id-8 label.sk-toggleable__label-arrow:hover:before {color: black;}#sk-container-id-8 div.sk-estimator:hover label.sk-toggleable__label-arrow:before {color: black;}#sk-container-id-8 div.sk-toggleable__content {max-height: 0;max-width: 0;overflow: hidden;text-align: left;background-color: #f0f8ff;}#sk-container-id-8 div.sk-toggleable__content pre {margin: 0.2em;color: black;border-radius: 0.25em;background-color: #f0f8ff;}#sk-container-id-8 input.sk-toggleable__control:checked~div.sk-toggleable__content {max-height: 200px;max-width: 100%;overflow: auto;}#sk-container-id-8 input.sk-toggleable__control:checked~label.sk-toggleable__label-arrow:before {content: \"▾\";}#sk-container-id-8 div.sk-estimator input.sk-toggleable__control:checked~label.sk-toggleable__label {background-color: #d4ebff;}#sk-container-id-8 div.sk-label input.sk-toggleable__control:checked~label.sk-toggleable__label {background-color: #d4ebff;}#sk-container-id-8 input.sk-hidden--visually {border: 0;clip: rect(1px 1px 1px 1px);clip: rect(1px, 1px, 1px, 1px);height: 1px;margin: -1px;overflow: hidden;padding: 0;position: absolute;width: 1px;}#sk-container-id-8 div.sk-estimator {font-family: monospace;background-color: #f0f8ff;border: 1px dotted black;border-radius: 0.25em;box-sizing: border-box;margin-bottom: 0.5em;}#sk-container-id-8 div.sk-estimator:hover {background-color: #d4ebff;}#sk-container-id-8 div.sk-parallel-item::after {content: \"\";width: 100%;border-bottom: 1px solid gray;flex-grow: 1;}#sk-container-id-8 div.sk-label:hover label.sk-toggleable__label {background-color: #d4ebff;}#sk-container-id-8 div.sk-serial::before {content: \"\";position: absolute;border-left: 1px solid gray;box-sizing: border-box;top: 0;bottom: 0;left: 50%;z-index: 0;}#sk-container-id-8 div.sk-serial {display: flex;flex-direction: column;align-items: center;background-color: white;padding-right: 0.2em;padding-left: 0.2em;position: relative;}#sk-container-id-8 div.sk-item {position: relative;z-index: 1;}#sk-container-id-8 div.sk-parallel {display: flex;align-items: stretch;justify-content: center;background-color: white;position: relative;}#sk-container-id-8 div.sk-item::before, #sk-container-id-8 div.sk-parallel-item::before {content: \"\";position: absolute;border-left: 1px solid gray;box-sizing: border-box;top: 0;bottom: 0;left: 50%;z-index: -1;}#sk-container-id-8 div.sk-parallel-item {display: flex;flex-direction: column;z-index: 1;position: relative;background-color: white;}#sk-container-id-8 div.sk-parallel-item:first-child::after {align-self: flex-end;width: 50%;}#sk-container-id-8 div.sk-parallel-item:last-child::after {align-self: flex-start;width: 50%;}#sk-container-id-8 div.sk-parallel-item:only-child::after {width: 0;}#sk-container-id-8 div.sk-dashed-wrapped {border: 1px dashed gray;margin: 0 0.4em 0.5em 0.4em;box-sizing: border-box;padding-bottom: 0.4em;background-color: white;}#sk-container-id-8 div.sk-label label {font-family: monospace;font-weight: bold;display: inline-block;line-height: 1.2em;}#sk-container-id-8 div.sk-label-container {text-align: center;}#sk-container-id-8 div.sk-container {/* jupyter's `normalize.less` sets `[hidden] { display: none; }` but bootstrap.min.css set `[hidden] { display: none !important; }` so we also need the `!important` here to be able to override the default hidden behavior on the sphinx rendered scikit-learn.org. See: https://github.com/scikit-learn/scikit-learn/issues/21755 */display: inline-block !important;position: relative;}#sk-container-id-8 div.sk-text-repr-fallback {display: none;}</style><div id=\"sk-container-id-8\" class=\"sk-top-container\"><div class=\"sk-text-repr-fallback\"><pre>Pipeline(steps=[(&#x27;preprocess&#x27;,\n",
       "                 ColumnTransformer(transformers=[(&#x27;num&#x27;,\n",
       "                                                  Pipeline(steps=[(&#x27;imputer&#x27;,\n",
       "                                                                   SimpleImputer()),\n",
       "                                                                  (&#x27;scaler&#x27;,\n",
       "                                                                   StandardScaler())]),\n",
       "                                                  [&#x27;gebjaar&#x27;, &#x27;leeftijd2019&#x27;,\n",
       "                                                   &#x27;nettoink2019&#x27;,\n",
       "                                                   &#x27;leeftijd2019&#x27;]),\n",
       "                                                 (&#x27;cat&#x27;,\n",
       "                                                  Pipeline(steps=[(&#x27;imputer&#x27;,\n",
       "                                                                   SimpleImputer(strategy=&#x27;most_frequent&#x27;)),\n",
       "                                                                  (&#x27;encoder&#x27;,\n",
       "                                                                   OneHotEncoder(handle_unknown=&#x27;infrequent_if_exist&#x27;))]),\n",
       "                                                  [&#x27;geslacht&#x27;, &#x27;aantalhh2019&#x27;,\n",
       "                                                   &#x27;partner2019&#x27;, &#x27;sted2019&#x27;,\n",
       "                                                   &#x27;belbezig2019&#x27;, &#x27;oplmet2019&#x27;,\n",
       "                                                   &#x27;herkomstgroep2019&#x27;,\n",
       "                                                   &#x27;burgstat2019&#x27;,\n",
       "                                                   &#x27;woonvorm2019&#x27;, &#x27;oplmet2019&#x27;,\n",
       "                                                   &#x27;aantalki2019&#x27;])])),\n",
       "                (&#x27;classifier&#x27;, RandomForestClassifier())])</pre><b>In a Jupyter environment, please rerun this cell to show the HTML representation or trust the notebook. <br />On GitHub, the HTML representation is unable to render, please try loading this page with nbviewer.org.</b></div><div class=\"sk-container\" hidden><div class=\"sk-item sk-dashed-wrapped\"><div class=\"sk-label-container\"><div class=\"sk-label sk-toggleable\"><input class=\"sk-toggleable__control sk-hidden--visually\" id=\"sk-estimator-id-64\" type=\"checkbox\" ><label for=\"sk-estimator-id-64\" class=\"sk-toggleable__label sk-toggleable__label-arrow\">Pipeline</label><div class=\"sk-toggleable__content\"><pre>Pipeline(steps=[(&#x27;preprocess&#x27;,\n",
       "                 ColumnTransformer(transformers=[(&#x27;num&#x27;,\n",
       "                                                  Pipeline(steps=[(&#x27;imputer&#x27;,\n",
       "                                                                   SimpleImputer()),\n",
       "                                                                  (&#x27;scaler&#x27;,\n",
       "                                                                   StandardScaler())]),\n",
       "                                                  [&#x27;gebjaar&#x27;, &#x27;leeftijd2019&#x27;,\n",
       "                                                   &#x27;nettoink2019&#x27;,\n",
       "                                                   &#x27;leeftijd2019&#x27;]),\n",
       "                                                 (&#x27;cat&#x27;,\n",
       "                                                  Pipeline(steps=[(&#x27;imputer&#x27;,\n",
       "                                                                   SimpleImputer(strategy=&#x27;most_frequent&#x27;)),\n",
       "                                                                  (&#x27;encoder&#x27;,\n",
       "                                                                   OneHotEncoder(handle_unknown=&#x27;infrequent_if_exist&#x27;))]),\n",
       "                                                  [&#x27;geslacht&#x27;, &#x27;aantalhh2019&#x27;,\n",
       "                                                   &#x27;partner2019&#x27;, &#x27;sted2019&#x27;,\n",
       "                                                   &#x27;belbezig2019&#x27;, &#x27;oplmet2019&#x27;,\n",
       "                                                   &#x27;herkomstgroep2019&#x27;,\n",
       "                                                   &#x27;burgstat2019&#x27;,\n",
       "                                                   &#x27;woonvorm2019&#x27;, &#x27;oplmet2019&#x27;,\n",
       "                                                   &#x27;aantalki2019&#x27;])])),\n",
       "                (&#x27;classifier&#x27;, RandomForestClassifier())])</pre></div></div></div><div class=\"sk-serial\"><div class=\"sk-item sk-dashed-wrapped\"><div class=\"sk-label-container\"><div class=\"sk-label sk-toggleable\"><input class=\"sk-toggleable__control sk-hidden--visually\" id=\"sk-estimator-id-65\" type=\"checkbox\" ><label for=\"sk-estimator-id-65\" class=\"sk-toggleable__label sk-toggleable__label-arrow\">preprocess: ColumnTransformer</label><div class=\"sk-toggleable__content\"><pre>ColumnTransformer(transformers=[(&#x27;num&#x27;,\n",
       "                                 Pipeline(steps=[(&#x27;imputer&#x27;, SimpleImputer()),\n",
       "                                                 (&#x27;scaler&#x27;, StandardScaler())]),\n",
       "                                 [&#x27;gebjaar&#x27;, &#x27;leeftijd2019&#x27;, &#x27;nettoink2019&#x27;,\n",
       "                                  &#x27;leeftijd2019&#x27;]),\n",
       "                                (&#x27;cat&#x27;,\n",
       "                                 Pipeline(steps=[(&#x27;imputer&#x27;,\n",
       "                                                  SimpleImputer(strategy=&#x27;most_frequent&#x27;)),\n",
       "                                                 (&#x27;encoder&#x27;,\n",
       "                                                  OneHotEncoder(handle_unknown=&#x27;infrequent_if_exist&#x27;))]),\n",
       "                                 [&#x27;geslacht&#x27;, &#x27;aantalhh2019&#x27;, &#x27;partner2019&#x27;,\n",
       "                                  &#x27;sted2019&#x27;, &#x27;belbezig2019&#x27;, &#x27;oplmet2019&#x27;,\n",
       "                                  &#x27;herkomstgroep2019&#x27;, &#x27;burgstat2019&#x27;,\n",
       "                                  &#x27;woonvorm2019&#x27;, &#x27;oplmet2019&#x27;,\n",
       "                                  &#x27;aantalki2019&#x27;])])</pre></div></div></div><div class=\"sk-parallel\"><div class=\"sk-parallel-item\"><div class=\"sk-item\"><div class=\"sk-label-container\"><div class=\"sk-label sk-toggleable\"><input class=\"sk-toggleable__control sk-hidden--visually\" id=\"sk-estimator-id-66\" type=\"checkbox\" ><label for=\"sk-estimator-id-66\" class=\"sk-toggleable__label sk-toggleable__label-arrow\">num</label><div class=\"sk-toggleable__content\"><pre>[&#x27;gebjaar&#x27;, &#x27;leeftijd2019&#x27;, &#x27;nettoink2019&#x27;, &#x27;leeftijd2019&#x27;]</pre></div></div></div><div class=\"sk-serial\"><div class=\"sk-item\"><div class=\"sk-serial\"><div class=\"sk-item\"><div class=\"sk-estimator sk-toggleable\"><input class=\"sk-toggleable__control sk-hidden--visually\" id=\"sk-estimator-id-67\" type=\"checkbox\" ><label for=\"sk-estimator-id-67\" class=\"sk-toggleable__label sk-toggleable__label-arrow\">SimpleImputer</label><div class=\"sk-toggleable__content\"><pre>SimpleImputer()</pre></div></div></div><div class=\"sk-item\"><div class=\"sk-estimator sk-toggleable\"><input class=\"sk-toggleable__control sk-hidden--visually\" id=\"sk-estimator-id-68\" type=\"checkbox\" ><label for=\"sk-estimator-id-68\" class=\"sk-toggleable__label sk-toggleable__label-arrow\">StandardScaler</label><div class=\"sk-toggleable__content\"><pre>StandardScaler()</pre></div></div></div></div></div></div></div></div><div class=\"sk-parallel-item\"><div class=\"sk-item\"><div class=\"sk-label-container\"><div class=\"sk-label sk-toggleable\"><input class=\"sk-toggleable__control sk-hidden--visually\" id=\"sk-estimator-id-69\" type=\"checkbox\" ><label for=\"sk-estimator-id-69\" class=\"sk-toggleable__label sk-toggleable__label-arrow\">cat</label><div class=\"sk-toggleable__content\"><pre>[&#x27;geslacht&#x27;, &#x27;aantalhh2019&#x27;, &#x27;partner2019&#x27;, &#x27;sted2019&#x27;, &#x27;belbezig2019&#x27;, &#x27;oplmet2019&#x27;, &#x27;herkomstgroep2019&#x27;, &#x27;burgstat2019&#x27;, &#x27;woonvorm2019&#x27;, &#x27;oplmet2019&#x27;, &#x27;aantalki2019&#x27;]</pre></div></div></div><div class=\"sk-serial\"><div class=\"sk-item\"><div class=\"sk-serial\"><div class=\"sk-item\"><div class=\"sk-estimator sk-toggleable\"><input class=\"sk-toggleable__control sk-hidden--visually\" id=\"sk-estimator-id-70\" type=\"checkbox\" ><label for=\"sk-estimator-id-70\" class=\"sk-toggleable__label sk-toggleable__label-arrow\">SimpleImputer</label><div class=\"sk-toggleable__content\"><pre>SimpleImputer(strategy=&#x27;most_frequent&#x27;)</pre></div></div></div><div class=\"sk-item\"><div class=\"sk-estimator sk-toggleable\"><input class=\"sk-toggleable__control sk-hidden--visually\" id=\"sk-estimator-id-71\" type=\"checkbox\" ><label for=\"sk-estimator-id-71\" class=\"sk-toggleable__label sk-toggleable__label-arrow\">OneHotEncoder</label><div class=\"sk-toggleable__content\"><pre>OneHotEncoder(handle_unknown=&#x27;infrequent_if_exist&#x27;)</pre></div></div></div></div></div></div></div></div></div></div><div class=\"sk-item\"><div class=\"sk-estimator sk-toggleable\"><input class=\"sk-toggleable__control sk-hidden--visually\" id=\"sk-estimator-id-72\" type=\"checkbox\" ><label for=\"sk-estimator-id-72\" class=\"sk-toggleable__label sk-toggleable__label-arrow\">RandomForestClassifier</label><div class=\"sk-toggleable__content\"><pre>RandomForestClassifier()</pre></div></div></div></div></div></div></div>"
      ],
      "text/plain": [
       "Pipeline(steps=[('preprocess',\n",
       "                 ColumnTransformer(transformers=[('num',\n",
       "                                                  Pipeline(steps=[('imputer',\n",
       "                                                                   SimpleImputer()),\n",
       "                                                                  ('scaler',\n",
       "                                                                   StandardScaler())]),\n",
       "                                                  ['gebjaar', 'leeftijd2019',\n",
       "                                                   'nettoink2019',\n",
       "                                                   'leeftijd2019']),\n",
       "                                                 ('cat',\n",
       "                                                  Pipeline(steps=[('imputer',\n",
       "                                                                   SimpleImputer(strategy='most_frequent')),\n",
       "                                                                  ('encoder',\n",
       "                                                                   OneHotEncoder(handle_unknown='infrequent_if_exist'))]),\n",
       "                                                  ['geslacht', 'aantalhh2019',\n",
       "                                                   'partner2019', 'sted2019',\n",
       "                                                   'belbezig2019', 'oplmet2019',\n",
       "                                                   'herkomstgroep2019',\n",
       "                                                   'burgstat2019',\n",
       "                                                   'woonvorm2019', 'oplmet2019',\n",
       "                                                   'aantalki2019'])])),\n",
       "                ('classifier', RandomForestClassifier())])"
      ]
     },
     "execution_count": 91,
     "metadata": {},
     "output_type": "execute_result"
    }
   ],
   "source": [
    "# Create pipeline\n",
    "model = Pipeline([\n",
    "               (\"preprocess\", preprocessor),\n",
    "               (\"classifier\", RandomForestClassifier())\n",
    "               ]) \n",
    "                      \n",
    "# Define the hyperparameters\n",
    "#parameters = [\n",
    "#    {\n",
    "#        'classifier': [LogisticRegression(max_iter=500)],\n",
    "#        'classifier__C': np.logspace(-1, 5, 50)\n",
    "#    },\n",
    "#    \n",
    "#\n",
    "#]\n",
    "\n",
    "# Perform hyperparameter tuning using cross-validation\n",
    "#grid_search = GridSearchCV(model, parameters, cv=5, n_jobs=-1, scoring=\"f1\", verbose=3)\n",
    "#grid_search.fit(X_upsampled, y_upsampled)\n",
    "\n",
    "# Keep best model\n",
    "#best_model = grid_search.best_estimator_\n",
    "best_model = model.fit(X_upsampled, y_upsampled)\n",
    "best_model"
   ]
  },
  {
   "cell_type": "markdown",
   "id": "25c849dc",
   "metadata": {},
   "source": [
    "# Evaluate the model"
   ]
  },
  {
   "cell_type": "code",
   "execution_count": 92,
   "id": "befcf23b",
   "metadata": {},
   "outputs": [
    {
     "data": {
      "image/png": "[encoded data removed]",
      "text/plain": [
       "<Figure size 640x480 with 1 Axes>"
      ]
     },
     "metadata": {},
     "output_type": "display_data"
    }
   ],
   "source": [
    "RocCurveDisplay.from_predictions(\n",
    "    y_test,\n",
    "    best_model.predict_proba(X_test)[:, 1],\n",
    "    color=\"cornflowerblue\",\n",
    ")\n",
    "plt.plot([0, 1], [0, 1], \"k--\", label=\"chance level (AUC = 0.5)\")\n",
    "plt.xlabel(\"False Positive Rate\")\n",
    "plt.ylabel(\"True Positive Rate\")\n",
    "plt.legend()\n",
    "plt.show()"
   ]
  },
  {
   "cell_type": "code",
   "execution_count": 93,
   "id": "9cbe6f34",
   "metadata": {},
   "outputs": [
    {
     "name": "stdout",
     "output_type": "stream",
     "text": [
      "              precision    recall  f1-score   support\n",
      "\n",
      "         0.0       0.88      0.89      0.89        75\n",
      "         1.0       0.47      0.44      0.45        16\n",
      "\n",
      "    accuracy                           0.81        91\n",
      "   macro avg       0.67      0.67      0.67        91\n",
      "weighted avg       0.81      0.81      0.81        91\n",
      "\n"
     ]
    }
   ],
   "source": [
    "# Create predictions\n",
    "y_pred = best_model.predict(X_test)\n",
    "\n",
    "# Report\n",
    "print(classification_report(y_test, y_pred))"
   ]
  },
  {
   "cell_type": "markdown",
   "id": "5e7dbff4",
   "metadata": {},
   "source": [
    "# Save models\n",
    "The model needs to be saved to disk. This allows the benchmarking script to load it and use it for predictions."
   ]
  },
  {
   "cell_type": "code",
   "execution_count": 96,
   "id": "0414eb51",
   "metadata": {},
   "outputs": [
    {
     "data": {
      "text/plain": [
       "['C://Users//Startklar//Downloads\\\\model.joblib']"
      ]
     },
     "execution_count": 96,
     "metadata": {},
     "output_type": "execute_result"
    }
   ],
   "source": [
    "models_path = os.path.join(\"C://Users//Startklar//Downloads\")\n",
    "os.makedirs(models_path, exist_ok=True)\n",
    "\n",
    "# Dump model (don't change the name)\n",
    "dump(best_model, os.path.join(models_path, \"model.joblib\"))"
   ]
  },
  {
   "cell_type": "markdown",
   "id": "d0fd27b9",
   "metadata": {},
   "source": [
    "# How the submission would look like\n",
    "The snippet below is taken from the file `src/script.py`. It shows how the prediction code needs to work. The function will be called with a dataframe containing the full dataset. This dataset is similar to the data downloaded but also includes the holdout data.\n",
    "\n",
    "It then does the preprocessing in the same way that was used to train the model. If you make any adjustments to the pre-processing they should also be copied to the `src/script.py` script (**the code below is just an excerpt**).\n",
    "\n",
    "Finally the script loads the model that was saved in the step above and does the prediction."
   ]
  },
  {
   "cell_type": "code",
   "execution_count": 73,
   "id": "ba11c24c",
   "metadata": {},
   "outputs": [],
   "source": [
    "def predict_outcomes(df):\n",
    "    # Keep \n",
    "    keepcols = ['burgstat2019', 'leeftijd2019', 'woonvorm2019', 'oplmet2019', 'aantalki2019']\n",
    "    nomem_encr = df[\"nomem_encr\"]\n",
    "    \n",
    "    df = df.loc[:, keepcols]\n",
    "    \n",
    "    # Load your trained model from the models directory\n",
    "    model_path = os.path.join(os.path.dirname(__file__), \"..\", \"models\", \"model.joblib\")\n",
    "    model = load(model_path)\n",
    "\n",
    "    # Use your trained model for prediction\n",
    "    predictions = model.predict(df)\n",
    "    # Return the result as a Pandas DataFrame with the columns \"nomem_encr\" and \"prediction\"\n",
    "    return pd.concat([nomem_encr, pd.Series(predictions, name=\"prediction\")], axis=1)"
   ]
  }
 ],
 "metadata": {
  "kernelspec": {
   "display_name": "Python 3 (ipykernel)",
   "language": "python",
   "name": "python3"
  },
  "language_info": {
   "codemirror_mode": {
    "name": "ipython",
    "version": 3
   },
   "file_extension": ".py",
   "mimetype": "text/x-python",
   "name": "python",
   "nbconvert_exporter": "python",
   "pygments_lexer": "ipython3",
   "version": "3.10.9"
  }
 },
 "nbformat": 4,
 "nbformat_minor": 5
}
